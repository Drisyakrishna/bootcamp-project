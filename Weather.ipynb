{
  "nbformat": 4,
  "nbformat_minor": 0,
  "metadata": {
    "colab": {
      "name": "Weather.ipynb",
      "provenance": [],
      "collapsed_sections": []
    },
    "kernelspec": {
      "name": "python3",
      "display_name": "Python 3"
    },
    "language_info": {
      "name": "python"
    }
  },
  "cells": [
    {
      "cell_type": "code",
      "metadata": {
        "colab": {
          "base_uri": "https://localhost:8080/"
        },
        "id": "CG7HqS_HYi4O",
        "outputId": "1e96d35c-83bb-47b6-e8ae-3c8e5ab37190"
      },
      "source": [
        "import requests\n",
        "from datetime import datetime\n",
        "api_key ='b1b57d9af514a3484d3d527977c9b417'\n",
        "location = input(\"enter the  city name\")\n",
        "complete_api_link =\"https://api.openweathermap.org/data/2.5/weather?q=\"+location+\"&appid=\"+api_key\n",
        "api_link =requests.get(complete_api_link)\n",
        "api_data= api_link.json()\n",
        "temp_city=((api_data['main']['temp'])-273.15)\n",
        "weather_desc =api_data['weather'][0]['description']\n",
        "hmdt=api_data['main']['humidity']\n",
        "wind_spd =api_data['wind']['speed']\n",
        "date_time=datetime.now().strftime(\"%d %b %Y | %I:%M:%S%P\")\n",
        "print(\"........................\")\n",
        "print(\"weather states for - {} || {}\".format(location.upper(), date_time))\n",
        "print(\"...................................\")\n",
        "print(\"current temperature is :{:2f} deg C\".format(temp_city))\n",
        "print(\"current weather desc :\",weather_desc)\n",
        "print(\"current humidity :\",hmdt, '%')\n",
        "print(\"current wind speed:\" ,wind_spd,'kmph')\n",
        "\n"
      ],
      "execution_count": 1,
      "outputs": [
        {
          "output_type": "stream",
          "text": [
            "enter the  city namekerala\n",
            "........................\n",
            "weather states for - KERALA || 23 Jun 2021 | 02:00:04am\n",
            "...................................\n",
            "current temperature is :24.820000 deg C\n",
            "current weather desc : overcast clouds\n",
            "current humidity : 97 %\n",
            "current wind speed: 0.71 kmph\n"
          ],
          "name": "stdout"
        }
      ]
    },
    {
      "cell_type": "markdown",
      "metadata": {
        "id": "cRANJ4iPkfle"
      },
      "source": [
        ""
      ]
    },
    {
      "cell_type": "code",
      "metadata": {
        "id": "Uag33n_TkhK1"
      },
      "source": [
        ""
      ],
      "execution_count": null,
      "outputs": []
    }
  ]
}